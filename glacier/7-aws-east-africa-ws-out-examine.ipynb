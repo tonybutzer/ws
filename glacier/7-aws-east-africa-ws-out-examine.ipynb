{
 "cells": [
  {
   "cell_type": "code",
   "execution_count": 1,
   "id": "a5667c20",
   "metadata": {},
   "outputs": [],
   "source": [
    "import sys\n",
    "\n",
    "sys.path.append('.')"
   ]
  },
  {
   "cell_type": "code",
   "execution_count": 2,
   "id": "24dd5010",
   "metadata": {},
   "outputs": [],
   "source": [
    "from bucket_analyze import bucket_analyze"
   ]
  },
  {
   "cell_type": "code",
   "execution_count": 3,
   "id": "94a6447d",
   "metadata": {},
   "outputs": [],
   "source": [
    "bucket_name = 'ws-out'\n",
    "pdir='EastAfrica/'"
   ]
  },
  {
   "cell_type": "code",
   "execution_count": 4,
   "id": "eea5a820",
   "metadata": {},
   "outputs": [
    {
     "name": "stdout",
     "output_type": "stream",
     "text": [
      "bucket ws-out\n",
      "prefix EastAfrica/\n",
      "COUNT= 81121\n",
      "STANDARD 81121\n",
      "STANDARD 8826460148543\n",
      "STANDARD GBYTES= 8220.281590281986\n",
      "STANDARD Cost/Month= 189.06647657648566\n",
      "----------------------------------------------------------------------------------------------------\n",
      "GLACIER 0\n",
      "GLACIER 0\n",
      "GLACIER GBYTES= 0.0\n",
      "GLACIER Cost/Month= 0.0\n",
      "----------------------------------------------------------------------------------------------------\n",
      "INTELLIGENT_TIERING 0\n",
      "INTELLIGENT_TIERING 0\n",
      "INTELLIGENT_TIERING GBYTES= 0.0\n",
      "INTELLIGENT_TIERING Cost/Month= 0.0\n",
      "----------------------------------------------------------------------------------------------------\n",
      "END LOOP\n",
      "G: 8220.281590281986 189.06647657648566\n"
     ]
    }
   ],
   "source": [
    "gb, dol_month = bucket_analyze(bucket_name, pdir)"
   ]
  },
  {
   "cell_type": "code",
   "execution_count": null,
   "id": "0959730e",
   "metadata": {},
   "outputs": [],
   "source": []
  }
 ],
 "metadata": {
  "kernelspec": {
   "display_name": "Python 3 (ipykernel)",
   "language": "python",
   "name": "python3"
  },
  "language_info": {
   "codemirror_mode": {
    "name": "ipython",
    "version": 3
   },
   "file_extension": ".py",
   "mimetype": "text/x-python",
   "name": "python",
   "nbconvert_exporter": "python",
   "pygments_lexer": "ipython3",
   "version": "3.9.9"
  }
 },
 "nbformat": 4,
 "nbformat_minor": 5
}
