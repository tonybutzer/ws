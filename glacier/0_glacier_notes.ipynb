{
 "cells": [
  {
   "cell_type": "markdown",
   "id": "5e054798",
   "metadata": {},
   "source": [
    "# tutorial on glacier\n",
    "https://www.youtube.com/watch?v=_cwpengIjkw"
   ]
  },
  {
   "cell_type": "markdown",
   "id": "b95796bc",
   "metadata": {},
   "source": [
    "# json example\n",
    "https://docs.aws.amazon.com/cli/latest/reference/s3api/put-bucket-lifecycle-configuration.html\n",
    "\n",
    "```\n",
    "{\n",
    "    \"Rules\": [\n",
    "        {\n",
    "            \"ID\": \"Move rotated logs to Glacier\",\n",
    "            \"Prefix\": \"rotated/\",\n",
    "            \"Status\": \"Enabled\",\n",
    "            \"Transitions\": [\n",
    "                {\n",
    "                    \"Date\": \"2015-11-10T00:00:00.000Z\",\n",
    "                    \"StorageClass\": \"GLACIER\"\n",
    "                }\n",
    "            ]\n",
    "        },\n",
    "        {\n",
    "            \"Status\": \"Enabled\",\n",
    "            \"Prefix\": \"\",\n",
    "            \"NoncurrentVersionTransitions\": [\n",
    "                {\n",
    "                    \"NoncurrentDays\": 2,\n",
    "                    \"StorageClass\": \"GLACIER\"\n",
    "                }\n",
    "            ],\n",
    "            \"ID\": \"Move old versions to Glacier\"\n",
    "        }\n",
    "    ]\n",
    "}\n",
    "```\n",
    "\n",
    "The first rule moves files with the prefix rotated to Glacier on the specified date. The second rule moves old object versions to Glacier when they are no longer current. For information on acceptable timestamp formats, see Specifying Parameter Values in the AWS CLI User Guide."
   ]
  },
  {
   "cell_type": "markdown",
   "id": "2a60d074",
   "metadata": {},
   "source": [
    "### aws s3api put-bucket-lifecycle-configuration --bucket my-bucket --lifecycle-configuration  file://lifecycle.json"
   ]
  },
  {
   "cell_type": "code",
   "execution_count": 2,
   "id": "5f2f6465",
   "metadata": {},
   "outputs": [
    {
     "name": "stdout",
     "output_type": "stream",
     "text": [
      "2022-03-29T14:32:54Z\r\n"
     ]
    }
   ],
   "source": [
    "! date -u +\"%Y-%m-%dT%H:%M:%SZ\""
   ]
  },
  {
   "cell_type": "code",
   "execution_count": 3,
   "id": "82f7af89",
   "metadata": {},
   "outputs": [
    {
     "name": "stdout",
     "output_type": "stream",
     "text": [
      "0_glacier_notes.ipynb\t     bucket_analyze.py\t\tws_s3_usage.csv\r\n",
      "1_bucket_analysis.ipynb      eastafrica-lifecycle.json\r\n",
      "8_AWS_S3_Bucket_stats.ipynb  __pycache__\r\n"
     ]
    }
   ],
   "source": [
    "!ls"
   ]
  },
  {
   "cell_type": "code",
   "execution_count": 7,
   "id": "ab363f5e",
   "metadata": {},
   "outputs": [
    {
     "name": "stdout",
     "output_type": "stream",
     "text": [
      "{\r\n",
      "    \"Rules\": [\r\n",
      "        {\r\n",
      "            \"ID\": \"Move EastAfrica to Glacier\",\r\n",
      "            \"Prefix\": \"EastAfrica/\",\r\n",
      "            \"Status\": \"Enabled\",\r\n",
      "            \"Transitions\": [\r\n",
      "                {\r\n",
      "                    \"Date\": \"2022-03-30\",\r\n",
      "                    \"StorageClass\": \"GLACIER\"\r\n",
      "                }\r\n",
      "            ]\r\n",
      "        },\r\n",
      "        {\r\n",
      "            \"Status\": \"Enabled\",\r\n",
      "            \"Prefix\": \"\",\r\n",
      "            \"NoncurrentVersionTransitions\": [\r\n",
      "                {\r\n",
      "                    \"NoncurrentDays\": 2,\r\n",
      "                    \"StorageClass\": \"GLACIER\"\r\n",
      "                }\r\n",
      "            ],\r\n",
      "            \"ID\": \"Move old versions to Glacier\"\r\n",
      "        }\r\n",
      "    ]\r\n",
      "}\r\n"
     ]
    }
   ],
   "source": [
    "! cat eastafrica-lifecycle.json"
   ]
  },
  {
   "cell_type": "code",
   "execution_count": 6,
   "id": "d7b0f638",
   "metadata": {},
   "outputs": [],
   "source": [
    "! aws s3api put-bucket-lifecycle-configuration --bucket ws-out --lifecycle-configuration file://eastafrica-lifecycle.json"
   ]
  },
  {
   "cell_type": "code",
   "execution_count": null,
   "id": "a96e45e3",
   "metadata": {},
   "outputs": [],
   "source": []
  }
 ],
 "metadata": {
  "kernelspec": {
   "display_name": "Python 3 (ipykernel)",
   "language": "python",
   "name": "python3"
  },
  "language_info": {
   "codemirror_mode": {
    "name": "ipython",
    "version": 3
   },
   "file_extension": ".py",
   "mimetype": "text/x-python",
   "name": "python",
   "nbconvert_exporter": "python",
   "pygments_lexer": "ipython3",
   "version": "3.9.9"
  }
 },
 "nbformat": 4,
 "nbformat_minor": 5
}
