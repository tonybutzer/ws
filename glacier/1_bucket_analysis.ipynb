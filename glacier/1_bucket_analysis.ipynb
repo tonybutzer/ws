{
 "cells": [
  {
   "cell_type": "code",
   "execution_count": 1,
   "id": "46b0d038",
   "metadata": {},
   "outputs": [
    {
     "name": "stdout",
     "output_type": "stream",
     "text": [
      "--2022-03-28 20:57:22--  https://raw.githubusercontent.com/tonybutzer/teigen-lightning-talks/a557b877c8062d3a1900b8fa66bfd9c828a57592/4_Jan_2022/Panel_Examples/8_AWS_S3_Bucket_stats.ipynb\n",
      "Resolving raw.githubusercontent.com (raw.githubusercontent.com)... 185.199.109.133, 185.199.110.133, 185.199.111.133, ...\n",
      "Connecting to raw.githubusercontent.com (raw.githubusercontent.com)|185.199.109.133|:443... connected.\n",
      "HTTP request sent, awaiting response... 200 OK\n",
      "Length: 36661 (36K) [text/plain]\n",
      "Saving to: ‘8_AWS_S3_Bucket_stats.ipynb’\n",
      "\n",
      "100%[======================================>] 36,661      --.-K/s   in 0.03s   \n",
      "\n",
      "2022-03-28 20:57:23 (1.07 MB/s) - ‘8_AWS_S3_Bucket_stats.ipynb’ saved [36661/36661]\n",
      "\n"
     ]
    }
   ],
   "source": [
    "! wget https://raw.githubusercontent.com/tonybutzer/teigen-lightning-talks/a557b877c8062d3a1900b8fa66bfd9c828a57592/4_Jan_2022/Panel_Examples/8_AWS_S3_Bucket_stats.ipynb"
   ]
  },
  {
   "cell_type": "code",
   "execution_count": null,
   "id": "1a262f77",
   "metadata": {},
   "outputs": [],
   "source": []
  }
 ],
 "metadata": {
  "kernelspec": {
   "display_name": "Python 3 (ipykernel)",
   "language": "python",
   "name": "python3"
  },
  "language_info": {
   "codemirror_mode": {
    "name": "ipython",
    "version": 3
   },
   "file_extension": ".py",
   "mimetype": "text/x-python",
   "name": "python",
   "nbconvert_exporter": "python",
   "pygments_lexer": "ipython3",
   "version": "3.9.9"
  }
 },
 "nbformat": 4,
 "nbformat_minor": 5
}
